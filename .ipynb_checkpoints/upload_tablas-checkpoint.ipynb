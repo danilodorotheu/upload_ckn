{
 "cells": [
  {
   "cell_type": "code",
   "execution_count": 10,
   "metadata": {},
   "outputs": [],
   "source": [
    "import pandas as pd\n",
    "import glob"
   ]
  },
  {
   "cell_type": "code",
   "execution_count": 11,
   "metadata": {},
   "outputs": [],
   "source": [
    "def read_partials(key, **kargs):\n",
    "    all_files = glob.glob(key)\n",
    "    li = []\n",
    "    for filename in all_files:\n",
    "        df = pd.read_csv(filename, **kargs)\n",
    "        li.append(df)\n",
    "\n",
    "    return pd.concat(li, axis=0, ignore_index=True)"
   ]
  },
  {
   "cell_type": "markdown",
   "metadata": {},
   "source": [
    "# Reading Tablas"
   ]
  },
  {
   "cell_type": "code",
   "execution_count": 12,
   "metadata": {},
   "outputs": [],
   "source": [
    "tablas = read_partials(\"tablas*.csv\", delimiter=\";\")"
   ]
  },
  {
   "cell_type": "code",
   "execution_count": 13,
   "metadata": {},
   "outputs": [
    {
     "data": {
      "text/html": [
       "<div>\n",
       "<style scoped>\n",
       "    .dataframe tbody tr th:only-of-type {\n",
       "        vertical-align: middle;\n",
       "    }\n",
       "\n",
       "    .dataframe tbody tr th {\n",
       "        vertical-align: top;\n",
       "    }\n",
       "\n",
       "    .dataframe thead th {\n",
       "        text-align: right;\n",
       "    }\n",
       "</style>\n",
       "<table border=\"1\" class=\"dataframe\">\n",
       "  <thead>\n",
       "    <tr style=\"text-align: right;\">\n",
       "      <th></th>\n",
       "      <th>environment</th>\n",
       "      <th>database</th>\n",
       "      <th>path</th>\n",
       "      <th>last_modified</th>\n",
       "      <th>year</th>\n",
       "      <th>month</th>\n",
       "      <th>day</th>\n",
       "    </tr>\n",
       "  </thead>\n",
       "  <tbody>\n",
       "    <tr>\n",
       "      <th>0</th>\n",
       "      <td>production</td>\n",
       "      <td>tb_raw_mydatabase_01</td>\n",
       "      <td>s3:/tb_raw_mydatabase_01</td>\n",
       "      <td>20200101120000</td>\n",
       "      <td>2021</td>\n",
       "      <td>1</td>\n",
       "      <td>1</td>\n",
       "    </tr>\n",
       "    <tr>\n",
       "      <th>1</th>\n",
       "      <td>production</td>\n",
       "      <td>tb_raw_mydatabase_02</td>\n",
       "      <td>s3:/tb_raw_mydatabase_02</td>\n",
       "      <td>20200101120000</td>\n",
       "      <td>2021</td>\n",
       "      <td>1</td>\n",
       "      <td>1</td>\n",
       "    </tr>\n",
       "    <tr>\n",
       "      <th>2</th>\n",
       "      <td>production</td>\n",
       "      <td>tb_raw_mydatabase_03</td>\n",
       "      <td>s3:/tb_raw_mydatabase_03</td>\n",
       "      <td>20200101120000</td>\n",
       "      <td>2021</td>\n",
       "      <td>1</td>\n",
       "      <td>1</td>\n",
       "    </tr>\n",
       "    <tr>\n",
       "      <th>3</th>\n",
       "      <td>production</td>\n",
       "      <td>tb_raw_mydatabase_01</td>\n",
       "      <td>s3:/tb_raw_mydatabase_01</td>\n",
       "      <td>20200201120000</td>\n",
       "      <td>2021</td>\n",
       "      <td>2</td>\n",
       "      <td>1</td>\n",
       "    </tr>\n",
       "    <tr>\n",
       "      <th>4</th>\n",
       "      <td>production</td>\n",
       "      <td>tb_raw_mydatabase_02</td>\n",
       "      <td>s3:/tb_raw_mydatabase_02</td>\n",
       "      <td>20200201120000</td>\n",
       "      <td>2021</td>\n",
       "      <td>2</td>\n",
       "      <td>1</td>\n",
       "    </tr>\n",
       "  </tbody>\n",
       "</table>\n",
       "</div>"
      ],
      "text/plain": [
       "  environment              database                      path   last_modified  \\\n",
       "0  production  tb_raw_mydatabase_01  s3:/tb_raw_mydatabase_01  20200101120000   \n",
       "1  production  tb_raw_mydatabase_02  s3:/tb_raw_mydatabase_02  20200101120000   \n",
       "2  production  tb_raw_mydatabase_03  s3:/tb_raw_mydatabase_03  20200101120000   \n",
       "3  production  tb_raw_mydatabase_01  s3:/tb_raw_mydatabase_01  20200201120000   \n",
       "4  production  tb_raw_mydatabase_02  s3:/tb_raw_mydatabase_02  20200201120000   \n",
       "\n",
       "   year  month  day  \n",
       "0  2021      1    1  \n",
       "1  2021      1    1  \n",
       "2  2021      1    1  \n",
       "3  2021      2    1  \n",
       "4  2021      2    1  "
      ]
     },
     "execution_count": 13,
     "metadata": {},
     "output_type": "execute_result"
    }
   ],
   "source": [
    "tablas.head()"
   ]
  },
  {
   "cell_type": "markdown",
   "metadata": {},
   "source": [
    "# Reading Columns"
   ]
  },
  {
   "cell_type": "code",
   "execution_count": 14,
   "metadata": {},
   "outputs": [],
   "source": [
    "colunas = read_partials(\"colunas*.csv\", delimiter=\";\")"
   ]
  },
  {
   "cell_type": "code",
   "execution_count": 15,
   "metadata": {},
   "outputs": [
    {
     "data": {
      "text/html": [
       "<div>\n",
       "<style scoped>\n",
       "    .dataframe tbody tr th:only-of-type {\n",
       "        vertical-align: middle;\n",
       "    }\n",
       "\n",
       "    .dataframe tbody tr th {\n",
       "        vertical-align: top;\n",
       "    }\n",
       "\n",
       "    .dataframe thead th {\n",
       "        text-align: right;\n",
       "    }\n",
       "</style>\n",
       "<table border=\"1\" class=\"dataframe\">\n",
       "  <thead>\n",
       "    <tr style=\"text-align: right;\">\n",
       "      <th></th>\n",
       "      <th>environment</th>\n",
       "      <th>database</th>\n",
       "      <th>column</th>\n",
       "      <th>year</th>\n",
       "      <th>month</th>\n",
       "      <th>day</th>\n",
       "    </tr>\n",
       "  </thead>\n",
       "  <tbody>\n",
       "    <tr>\n",
       "      <th>0</th>\n",
       "      <td>production</td>\n",
       "      <td>tb_raw_mydatabase_01</td>\n",
       "      <td>coluna1</td>\n",
       "      <td>2021</td>\n",
       "      <td>1</td>\n",
       "      <td>1</td>\n",
       "    </tr>\n",
       "    <tr>\n",
       "      <th>1</th>\n",
       "      <td>production</td>\n",
       "      <td>tb_raw_mydatabase_01</td>\n",
       "      <td>coluna2</td>\n",
       "      <td>2021</td>\n",
       "      <td>1</td>\n",
       "      <td>1</td>\n",
       "    </tr>\n",
       "    <tr>\n",
       "      <th>2</th>\n",
       "      <td>production</td>\n",
       "      <td>tb_raw_mydatabase_01</td>\n",
       "      <td>coluna3</td>\n",
       "      <td>2021</td>\n",
       "      <td>1</td>\n",
       "      <td>1</td>\n",
       "    </tr>\n",
       "    <tr>\n",
       "      <th>3</th>\n",
       "      <td>production</td>\n",
       "      <td>tb_raw_mydatabase_01</td>\n",
       "      <td>coluna4</td>\n",
       "      <td>2021</td>\n",
       "      <td>1</td>\n",
       "      <td>1</td>\n",
       "    </tr>\n",
       "    <tr>\n",
       "      <th>4</th>\n",
       "      <td>production</td>\n",
       "      <td>tb_raw_mydatabase_01</td>\n",
       "      <td>coluna5</td>\n",
       "      <td>2021</td>\n",
       "      <td>1</td>\n",
       "      <td>1</td>\n",
       "    </tr>\n",
       "  </tbody>\n",
       "</table>\n",
       "</div>"
      ],
      "text/plain": [
       "  environment              database   column  year  month  day\n",
       "0  production  tb_raw_mydatabase_01  coluna1  2021      1    1\n",
       "1  production  tb_raw_mydatabase_01  coluna2  2021      1    1\n",
       "2  production  tb_raw_mydatabase_01  coluna3  2021      1    1\n",
       "3  production  tb_raw_mydatabase_01  coluna4  2021      1    1\n",
       "4  production  tb_raw_mydatabase_01  coluna5  2021      1    1"
      ]
     },
     "execution_count": 15,
     "metadata": {},
     "output_type": "execute_result"
    }
   ],
   "source": [
    "colunas.head()"
   ]
  },
  {
   "cell_type": "markdown",
   "metadata": {},
   "source": [
    "# Merging Files"
   ]
  },
  {
   "cell_type": "code",
   "execution_count": 17,
   "metadata": {},
   "outputs": [],
   "source": [
    "tablas_cols = tablas.merge(colunas, left_on=['database', 'year', 'month', 'day'], right_on=['database', 'year', 'month', 'day'], suffixes=('_left', '_right'))"
   ]
  },
  {
   "cell_type": "code",
   "execution_count": 18,
   "metadata": {},
   "outputs": [
    {
     "data": {
      "text/html": [
       "<div>\n",
       "<style scoped>\n",
       "    .dataframe tbody tr th:only-of-type {\n",
       "        vertical-align: middle;\n",
       "    }\n",
       "\n",
       "    .dataframe tbody tr th {\n",
       "        vertical-align: top;\n",
       "    }\n",
       "\n",
       "    .dataframe thead th {\n",
       "        text-align: right;\n",
       "    }\n",
       "</style>\n",
       "<table border=\"1\" class=\"dataframe\">\n",
       "  <thead>\n",
       "    <tr style=\"text-align: right;\">\n",
       "      <th></th>\n",
       "      <th>environment_left</th>\n",
       "      <th>database</th>\n",
       "      <th>path</th>\n",
       "      <th>last_modified</th>\n",
       "      <th>year</th>\n",
       "      <th>month</th>\n",
       "      <th>day</th>\n",
       "      <th>environment_right</th>\n",
       "      <th>column</th>\n",
       "    </tr>\n",
       "  </thead>\n",
       "  <tbody>\n",
       "    <tr>\n",
       "      <th>0</th>\n",
       "      <td>production</td>\n",
       "      <td>tb_raw_mydatabase_01</td>\n",
       "      <td>s3:/tb_raw_mydatabase_01</td>\n",
       "      <td>20200101120000</td>\n",
       "      <td>2021</td>\n",
       "      <td>1</td>\n",
       "      <td>1</td>\n",
       "      <td>production</td>\n",
       "      <td>coluna1</td>\n",
       "    </tr>\n",
       "    <tr>\n",
       "      <th>1</th>\n",
       "      <td>production</td>\n",
       "      <td>tb_raw_mydatabase_01</td>\n",
       "      <td>s3:/tb_raw_mydatabase_01</td>\n",
       "      <td>20200101120000</td>\n",
       "      <td>2021</td>\n",
       "      <td>1</td>\n",
       "      <td>1</td>\n",
       "      <td>production</td>\n",
       "      <td>coluna2</td>\n",
       "    </tr>\n",
       "    <tr>\n",
       "      <th>2</th>\n",
       "      <td>production</td>\n",
       "      <td>tb_raw_mydatabase_01</td>\n",
       "      <td>s3:/tb_raw_mydatabase_01</td>\n",
       "      <td>20200101120000</td>\n",
       "      <td>2021</td>\n",
       "      <td>1</td>\n",
       "      <td>1</td>\n",
       "      <td>production</td>\n",
       "      <td>coluna3</td>\n",
       "    </tr>\n",
       "    <tr>\n",
       "      <th>3</th>\n",
       "      <td>production</td>\n",
       "      <td>tb_raw_mydatabase_01</td>\n",
       "      <td>s3:/tb_raw_mydatabase_01</td>\n",
       "      <td>20200101120000</td>\n",
       "      <td>2021</td>\n",
       "      <td>1</td>\n",
       "      <td>1</td>\n",
       "      <td>production</td>\n",
       "      <td>coluna4</td>\n",
       "    </tr>\n",
       "    <tr>\n",
       "      <th>4</th>\n",
       "      <td>production</td>\n",
       "      <td>tb_raw_mydatabase_01</td>\n",
       "      <td>s3:/tb_raw_mydatabase_01</td>\n",
       "      <td>20200101120000</td>\n",
       "      <td>2021</td>\n",
       "      <td>1</td>\n",
       "      <td>1</td>\n",
       "      <td>production</td>\n",
       "      <td>coluna5</td>\n",
       "    </tr>\n",
       "  </tbody>\n",
       "</table>\n",
       "</div>"
      ],
      "text/plain": [
       "  environment_left              database                      path  \\\n",
       "0       production  tb_raw_mydatabase_01  s3:/tb_raw_mydatabase_01   \n",
       "1       production  tb_raw_mydatabase_01  s3:/tb_raw_mydatabase_01   \n",
       "2       production  tb_raw_mydatabase_01  s3:/tb_raw_mydatabase_01   \n",
       "3       production  tb_raw_mydatabase_01  s3:/tb_raw_mydatabase_01   \n",
       "4       production  tb_raw_mydatabase_01  s3:/tb_raw_mydatabase_01   \n",
       "\n",
       "    last_modified  year  month  day environment_right   column  \n",
       "0  20200101120000  2021      1    1        production  coluna1  \n",
       "1  20200101120000  2021      1    1        production  coluna2  \n",
       "2  20200101120000  2021      1    1        production  coluna3  \n",
       "3  20200101120000  2021      1    1        production  coluna4  \n",
       "4  20200101120000  2021      1    1        production  coluna5  "
      ]
     },
     "execution_count": 18,
     "metadata": {},
     "output_type": "execute_result"
    }
   ],
   "source": [
    "tablas_cols.head()"
   ]
  },
  {
   "cell_type": "markdown",
   "metadata": {},
   "source": [
    "# Isolating data"
   ]
  },
  {
   "cell_type": "code",
   "execution_count": 19,
   "metadata": {},
   "outputs": [],
   "source": [
    "last = 20200501120000"
   ]
  },
  {
   "cell_type": "code",
   "execution_count": 20,
   "metadata": {},
   "outputs": [
    {
     "data": {
      "text/plain": [
       "environment_left     object\n",
       "database             object\n",
       "path                 object\n",
       "last_modified         int64\n",
       "year                  int64\n",
       "month                 int64\n",
       "day                   int64\n",
       "environment_right    object\n",
       "column               object\n",
       "dtype: object"
      ]
     },
     "execution_count": 20,
     "metadata": {},
     "output_type": "execute_result"
    }
   ],
   "source": [
    "tablas_cols.dtypes"
   ]
  },
  {
   "cell_type": "code",
   "execution_count": 21,
   "metadata": {},
   "outputs": [],
   "source": [
    "tablas_atual = tablas_cols.loc[(tablas_cols['last_modified'] > last)]"
   ]
  },
  {
   "cell_type": "code",
   "execution_count": 36,
   "metadata": {
    "scrolled": false
   },
   "outputs": [
    {
     "data": {
      "text/html": [
       "<div>\n",
       "<style scoped>\n",
       "    .dataframe tbody tr th:only-of-type {\n",
       "        vertical-align: middle;\n",
       "    }\n",
       "\n",
       "    .dataframe tbody tr th {\n",
       "        vertical-align: top;\n",
       "    }\n",
       "\n",
       "    .dataframe thead th {\n",
       "        text-align: right;\n",
       "    }\n",
       "</style>\n",
       "<table border=\"1\" class=\"dataframe\">\n",
       "  <thead>\n",
       "    <tr style=\"text-align: right;\">\n",
       "      <th></th>\n",
       "      <th>environment_left</th>\n",
       "      <th>database</th>\n",
       "      <th>path</th>\n",
       "      <th>last_modified</th>\n",
       "      <th>year</th>\n",
       "      <th>month</th>\n",
       "      <th>day</th>\n",
       "      <th>environment_right</th>\n",
       "      <th>column</th>\n",
       "    </tr>\n",
       "  </thead>\n",
       "  <tbody>\n",
       "    <tr>\n",
       "      <th>0</th>\n",
       "      <td>production</td>\n",
       "      <td>tb_raw_mydatabase_01</td>\n",
       "      <td>s3:/tb_raw_mydatabase_01</td>\n",
       "      <td>20200601120000</td>\n",
       "      <td>2021</td>\n",
       "      <td>6</td>\n",
       "      <td>1</td>\n",
       "      <td>production</td>\n",
       "      <td>coluna1</td>\n",
       "    </tr>\n",
       "    <tr>\n",
       "      <th>1</th>\n",
       "      <td>production</td>\n",
       "      <td>tb_raw_mydatabase_01</td>\n",
       "      <td>s3:/tb_raw_mydatabase_01</td>\n",
       "      <td>20200601120000</td>\n",
       "      <td>2021</td>\n",
       "      <td>6</td>\n",
       "      <td>1</td>\n",
       "      <td>production</td>\n",
       "      <td>coluna2</td>\n",
       "    </tr>\n",
       "    <tr>\n",
       "      <th>2</th>\n",
       "      <td>production</td>\n",
       "      <td>tb_raw_mydatabase_01</td>\n",
       "      <td>s3:/tb_raw_mydatabase_01</td>\n",
       "      <td>20200601120000</td>\n",
       "      <td>2021</td>\n",
       "      <td>6</td>\n",
       "      <td>1</td>\n",
       "      <td>production</td>\n",
       "      <td>coluna3</td>\n",
       "    </tr>\n",
       "    <tr>\n",
       "      <th>3</th>\n",
       "      <td>production</td>\n",
       "      <td>tb_raw_mydatabase_01</td>\n",
       "      <td>s3:/tb_raw_mydatabase_01</td>\n",
       "      <td>20200601120000</td>\n",
       "      <td>2021</td>\n",
       "      <td>6</td>\n",
       "      <td>1</td>\n",
       "      <td>production</td>\n",
       "      <td>coluna4</td>\n",
       "    </tr>\n",
       "    <tr>\n",
       "      <th>4</th>\n",
       "      <td>production</td>\n",
       "      <td>tb_raw_mydatabase_01</td>\n",
       "      <td>s3:/tb_raw_mydatabase_01</td>\n",
       "      <td>20200601120000</td>\n",
       "      <td>2021</td>\n",
       "      <td>6</td>\n",
       "      <td>1</td>\n",
       "      <td>production</td>\n",
       "      <td>coluna5</td>\n",
       "    </tr>\n",
       "    <tr>\n",
       "      <th>5</th>\n",
       "      <td>production</td>\n",
       "      <td>tb_raw_mydatabase_02</td>\n",
       "      <td>s3:/tb_raw_mydatabase_02</td>\n",
       "      <td>20200601120000</td>\n",
       "      <td>2021</td>\n",
       "      <td>6</td>\n",
       "      <td>1</td>\n",
       "      <td>production</td>\n",
       "      <td>coluna1</td>\n",
       "    </tr>\n",
       "    <tr>\n",
       "      <th>6</th>\n",
       "      <td>production</td>\n",
       "      <td>tb_raw_mydatabase_02</td>\n",
       "      <td>s3:/tb_raw_mydatabase_02</td>\n",
       "      <td>20200601120000</td>\n",
       "      <td>2021</td>\n",
       "      <td>6</td>\n",
       "      <td>1</td>\n",
       "      <td>production</td>\n",
       "      <td>coluna2</td>\n",
       "    </tr>\n",
       "    <tr>\n",
       "      <th>7</th>\n",
       "      <td>production</td>\n",
       "      <td>tb_raw_mydatabase_02</td>\n",
       "      <td>s3:/tb_raw_mydatabase_02</td>\n",
       "      <td>20200601120000</td>\n",
       "      <td>2021</td>\n",
       "      <td>6</td>\n",
       "      <td>1</td>\n",
       "      <td>production</td>\n",
       "      <td>coluna3</td>\n",
       "    </tr>\n",
       "    <tr>\n",
       "      <th>8</th>\n",
       "      <td>production</td>\n",
       "      <td>tb_raw_mydatabase_02</td>\n",
       "      <td>s3:/tb_raw_mydatabase_02</td>\n",
       "      <td>20200601120000</td>\n",
       "      <td>2021</td>\n",
       "      <td>6</td>\n",
       "      <td>1</td>\n",
       "      <td>production</td>\n",
       "      <td>coluna4</td>\n",
       "    </tr>\n",
       "    <tr>\n",
       "      <th>9</th>\n",
       "      <td>production</td>\n",
       "      <td>tb_raw_mydatabase_02</td>\n",
       "      <td>s3:/tb_raw_mydatabase_02</td>\n",
       "      <td>20200601120000</td>\n",
       "      <td>2021</td>\n",
       "      <td>6</td>\n",
       "      <td>1</td>\n",
       "      <td>production</td>\n",
       "      <td>coluna5</td>\n",
       "    </tr>\n",
       "    <tr>\n",
       "      <th>10</th>\n",
       "      <td>production</td>\n",
       "      <td>tb_raw_mydatabase_03</td>\n",
       "      <td>s3:/tb_raw_mydatabase_03</td>\n",
       "      <td>20200601120000</td>\n",
       "      <td>2021</td>\n",
       "      <td>6</td>\n",
       "      <td>1</td>\n",
       "      <td>production</td>\n",
       "      <td>coluna1</td>\n",
       "    </tr>\n",
       "    <tr>\n",
       "      <th>11</th>\n",
       "      <td>production</td>\n",
       "      <td>tb_raw_mydatabase_03</td>\n",
       "      <td>s3:/tb_raw_mydatabase_03</td>\n",
       "      <td>20200601120000</td>\n",
       "      <td>2021</td>\n",
       "      <td>6</td>\n",
       "      <td>1</td>\n",
       "      <td>production</td>\n",
       "      <td>coluna2</td>\n",
       "    </tr>\n",
       "    <tr>\n",
       "      <th>12</th>\n",
       "      <td>production</td>\n",
       "      <td>tb_raw_mydatabase_03</td>\n",
       "      <td>s3:/tb_raw_mydatabase_03</td>\n",
       "      <td>20200601120000</td>\n",
       "      <td>2021</td>\n",
       "      <td>6</td>\n",
       "      <td>1</td>\n",
       "      <td>production</td>\n",
       "      <td>coluna3</td>\n",
       "    </tr>\n",
       "    <tr>\n",
       "      <th>13</th>\n",
       "      <td>production</td>\n",
       "      <td>tb_raw_mydatabase_03</td>\n",
       "      <td>s3:/tb_raw_mydatabase_03</td>\n",
       "      <td>20200601120000</td>\n",
       "      <td>2021</td>\n",
       "      <td>6</td>\n",
       "      <td>1</td>\n",
       "      <td>production</td>\n",
       "      <td>coluna4</td>\n",
       "    </tr>\n",
       "    <tr>\n",
       "      <th>14</th>\n",
       "      <td>production</td>\n",
       "      <td>tb_raw_mydatabase_03</td>\n",
       "      <td>s3:/tb_raw_mydatabase_03</td>\n",
       "      <td>20200601120000</td>\n",
       "      <td>2021</td>\n",
       "      <td>6</td>\n",
       "      <td>1</td>\n",
       "      <td>production</td>\n",
       "      <td>coluna5</td>\n",
       "    </tr>\n",
       "  </tbody>\n",
       "</table>\n",
       "</div>"
      ],
      "text/plain": [
       "   environment_left              database                      path  \\\n",
       "0        production  tb_raw_mydatabase_01  s3:/tb_raw_mydatabase_01   \n",
       "1        production  tb_raw_mydatabase_01  s3:/tb_raw_mydatabase_01   \n",
       "2        production  tb_raw_mydatabase_01  s3:/tb_raw_mydatabase_01   \n",
       "3        production  tb_raw_mydatabase_01  s3:/tb_raw_mydatabase_01   \n",
       "4        production  tb_raw_mydatabase_01  s3:/tb_raw_mydatabase_01   \n",
       "5        production  tb_raw_mydatabase_02  s3:/tb_raw_mydatabase_02   \n",
       "6        production  tb_raw_mydatabase_02  s3:/tb_raw_mydatabase_02   \n",
       "7        production  tb_raw_mydatabase_02  s3:/tb_raw_mydatabase_02   \n",
       "8        production  tb_raw_mydatabase_02  s3:/tb_raw_mydatabase_02   \n",
       "9        production  tb_raw_mydatabase_02  s3:/tb_raw_mydatabase_02   \n",
       "10       production  tb_raw_mydatabase_03  s3:/tb_raw_mydatabase_03   \n",
       "11       production  tb_raw_mydatabase_03  s3:/tb_raw_mydatabase_03   \n",
       "12       production  tb_raw_mydatabase_03  s3:/tb_raw_mydatabase_03   \n",
       "13       production  tb_raw_mydatabase_03  s3:/tb_raw_mydatabase_03   \n",
       "14       production  tb_raw_mydatabase_03  s3:/tb_raw_mydatabase_03   \n",
       "\n",
       "     last_modified  year  month  day environment_right   column  \n",
       "0   20200601120000  2021      6    1        production  coluna1  \n",
       "1   20200601120000  2021      6    1        production  coluna2  \n",
       "2   20200601120000  2021      6    1        production  coluna3  \n",
       "3   20200601120000  2021      6    1        production  coluna4  \n",
       "4   20200601120000  2021      6    1        production  coluna5  \n",
       "5   20200601120000  2021      6    1        production  coluna1  \n",
       "6   20200601120000  2021      6    1        production  coluna2  \n",
       "7   20200601120000  2021      6    1        production  coluna3  \n",
       "8   20200601120000  2021      6    1        production  coluna4  \n",
       "9   20200601120000  2021      6    1        production  coluna5  \n",
       "10  20200601120000  2021      6    1        production  coluna1  \n",
       "11  20200601120000  2021      6    1        production  coluna2  \n",
       "12  20200601120000  2021      6    1        production  coluna3  \n",
       "13  20200601120000  2021      6    1        production  coluna4  \n",
       "14  20200601120000  2021      6    1        production  coluna5  "
      ]
     },
     "execution_count": 36,
     "metadata": {},
     "output_type": "execute_result"
    }
   ],
   "source": [
    "tablas_atual.head(100)"
   ]
  },
  {
   "cell_type": "markdown",
   "metadata": {},
   "source": [
    "# Reset Index"
   ]
  },
  {
   "cell_type": "markdown",
   "metadata": {},
   "source": [
    "# Saving JSON"
   ]
  },
  {
   "cell_type": "code",
   "execution_count": 40,
   "metadata": {},
   "outputs": [],
   "source": [
    "result = tablas_atual.to_json()\n",
    "count  = len(tablas_atual.index)"
   ]
  },
  {
   "cell_type": "code",
   "execution_count": 49,
   "metadata": {},
   "outputs": [
    {
     "data": {
      "text/plain": [
       "'{\"environment_left\":{\"0\":\"production\",\"1\":\"production\",\"2\":\"production\",\"3\":\"production\",\"4\":\"production\",\"5\":\"production\",\"6\":\"production\",\"7\":\"production\",\"8\":\"production\",\"9\":\"production\",\"10\":\"production\",\"11\":\"production\",\"12\":\"production\",\"13\":\"production\",\"14\":\"production\"},\"database\":{\"0\":\"tb_raw_mydatabase_01\",\"1\":\"tb_raw_mydatabase_01\",\"2\":\"tb_raw_mydatabase_01\",\"3\":\"tb_raw_mydatabase_01\",\"4\":\"tb_raw_mydatabase_01\",\"5\":\"tb_raw_mydatabase_02\",\"6\":\"tb_raw_mydatabase_02\",\"7\":\"tb_raw_mydatabase_02\",\"8\":\"tb_raw_mydatabase_02\",\"9\":\"tb_raw_mydatabase_02\",\"10\":\"tb_raw_mydatabase_03\",\"11\":\"tb_raw_mydatabase_03\",\"12\":\"tb_raw_mydatabase_03\",\"13\":\"tb_raw_mydatabase_03\",\"14\":\"tb_raw_mydatabase_03\"},\"path\":{\"0\":\"s3:\\\\/tb_raw_mydatabase_01\",\"1\":\"s3:\\\\/tb_raw_mydatabase_01\",\"2\":\"s3:\\\\/tb_raw_mydatabase_01\",\"3\":\"s3:\\\\/tb_raw_mydatabase_01\",\"4\":\"s3:\\\\/tb_raw_mydatabase_01\",\"5\":\"s3:\\\\/tb_raw_mydatabase_02\",\"6\":\"s3:\\\\/tb_raw_mydatabase_02\",\"7\":\"s3:\\\\/tb_raw_mydatabase_02\",\"8\":\"s3:\\\\/tb_raw_mydatabase_02\",\"9\":\"s3:\\\\/tb_raw_mydatabase_02\",\"10\":\"s3:\\\\/tb_raw_mydatabase_03\",\"11\":\"s3:\\\\/tb_raw_mydatabase_03\",\"12\":\"s3:\\\\/tb_raw_mydatabase_03\",\"13\":\"s3:\\\\/tb_raw_mydatabase_03\",\"14\":\"s3:\\\\/tb_raw_mydatabase_03\"},\"last_modified\":{\"0\":20200601120000,\"1\":20200601120000,\"2\":20200601120000,\"3\":20200601120000,\"4\":20200601120000,\"5\":20200601120000,\"6\":20200601120000,\"7\":20200601120000,\"8\":20200601120000,\"9\":20200601120000,\"10\":20200601120000,\"11\":20200601120000,\"12\":20200601120000,\"13\":20200601120000,\"14\":20200601120000},\"year\":{\"0\":2021,\"1\":2021,\"2\":2021,\"3\":2021,\"4\":2021,\"5\":2021,\"6\":2021,\"7\":2021,\"8\":2021,\"9\":2021,\"10\":2021,\"11\":2021,\"12\":2021,\"13\":2021,\"14\":2021},\"month\":{\"0\":6,\"1\":6,\"2\":6,\"3\":6,\"4\":6,\"5\":6,\"6\":6,\"7\":6,\"8\":6,\"9\":6,\"10\":6,\"11\":6,\"12\":6,\"13\":6,\"14\":6},\"day\":{\"0\":1,\"1\":1,\"2\":1,\"3\":1,\"4\":1,\"5\":1,\"6\":1,\"7\":1,\"8\":1,\"9\":1,\"10\":1,\"11\":1,\"12\":1,\"13\":1,\"14\":1},\"environment_right\":{\"0\":\"production\",\"1\":\"production\",\"2\":\"production\",\"3\":\"production\",\"4\":\"production\",\"5\":\"production\",\"6\":\"production\",\"7\":\"production\",\"8\":\"production\",\"9\":\"production\",\"10\":\"production\",\"11\":\"production\",\"12\":\"production\",\"13\":\"production\",\"14\":\"production\"},\"column\":{\"0\":\"coluna1\",\"1\":\"coluna2\",\"2\":\"coluna3\",\"3\":\"coluna4\",\"4\":\"coluna5\",\"5\":\"coluna1\",\"6\":\"coluna2\",\"7\":\"coluna3\",\"8\":\"coluna4\",\"9\":\"coluna5\",\"10\":\"coluna1\",\"11\":\"coluna2\",\"12\":\"coluna3\",\"13\":\"coluna4\",\"14\":\"coluna5\"}}'"
      ]
     },
     "execution_count": 49,
     "metadata": {},
     "output_type": "execute_result"
    }
   ],
   "source": [
    "result"
   ]
  },
  {
   "cell_type": "markdown",
   "metadata": {},
   "source": [
    "# Reading JSON"
   ]
  },
  {
   "cell_type": "code",
   "execution_count": 43,
   "metadata": {},
   "outputs": [],
   "source": [
    "import json"
   ]
  },
  {
   "cell_type": "code",
   "execution_count": 44,
   "metadata": {},
   "outputs": [],
   "source": [
    "tb = json.loads(result) "
   ]
  },
  {
   "cell_type": "code",
   "execution_count": 59,
   "metadata": {},
   "outputs": [
    {
     "data": {
      "text/plain": [
       "dict_keys(['environment_left', 'database', 'path', 'last_modified', 'year', 'month', 'day', 'environment_right', 'column'])"
      ]
     },
     "execution_count": 59,
     "metadata": {},
     "output_type": "execute_result"
    }
   ],
   "source": [
    "tb.keys()"
   ]
  },
  {
   "cell_type": "code",
   "execution_count": 63,
   "metadata": {},
   "outputs": [
    {
     "name": "stdout",
     "output_type": "stream",
     "text": [
      "{'tb_raw_mydatabase_01': {'environment_left': 'production', 'database': 'tb_raw_mydatabase_01', 'path': 's3:/tb_raw_mydatabase_01', 'last_modified': 20200601120000, 'year': 2021, 'month': 6, 'day': 1, 'column': 'coluna5'}, 'tb_raw_mydatabase_02': {'environment_left': 'production', 'database': 'tb_raw_mydatabase_02', 'path': 's3:/tb_raw_mydatabase_02', 'last_modified': 20200601120000, 'year': 2021, 'month': 6, 'day': 1, 'column': 'coluna5'}, 'tb_raw_mydatabase_03': {'environment_left': 'production', 'database': 'tb_raw_mydatabase_03', 'path': 's3:/tb_raw_mydatabase_03', 'last_modified': 20200601120000, 'year': 2021, 'month': 6, 'day': 1, 'column': 'coluna5'}}\n"
     ]
    }
   ],
   "source": [
    "tablas_json = {}\n",
    "for i in range(0, count):\n",
    "    obj = {}\n",
    "    obj['environment_left'] = tb['environment_left'][f'{i}']\n",
    "    obj['database'] = tb['database'][f'{i}']\n",
    "    obj['path'] = tb['path'][f'{i}']\n",
    "    obj['last_modified'] = tb['last_modified'][f'{i}']\n",
    "    obj['year'] = tb['year'][f'{i}']\n",
    "    obj['month'] = tb['month'][f'{i}']\n",
    "    obj['day'] = tb['day'][f'{i}']\n",
    "    obj['column'] = tb['column'][f'{i}']\n",
    "    obj['description'] = \"descricao\"\n",
    "    obj['type'] = \"string\"\n",
    "    \n",
    "    tablas_json[tb['database'][f'{i}']] = obj\n",
    "\n",
    "print(tablas_json)\n"
   ]
  },
  {
   "cell_type": "code",
   "execution_count": null,
   "metadata": {},
   "outputs": [],
   "source": []
  }
 ],
 "metadata": {
  "kernelspec": {
   "display_name": "Python 3",
   "language": "python",
   "name": "python3"
  },
  "language_info": {
   "codemirror_mode": {
    "name": "ipython",
    "version": 3
   },
   "file_extension": ".py",
   "mimetype": "text/x-python",
   "name": "python",
   "nbconvert_exporter": "python",
   "pygments_lexer": "ipython3",
   "version": "3.7.3"
  }
 },
 "nbformat": 4,
 "nbformat_minor": 2
}
