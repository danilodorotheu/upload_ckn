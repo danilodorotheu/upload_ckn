{
 "cells": [
  {
   "cell_type": "code",
   "execution_count": 1,
   "metadata": {},
   "outputs": [],
   "source": [
    "import pandas as pd\n",
    "import glob\n",
    "import http.client\n",
    "import json"
   ]
  },
  {
   "cell_type": "markdown",
   "metadata": {},
   "source": [
    "# Reading"
   ]
  },
  {
   "cell_type": "code",
   "execution_count": 2,
   "metadata": {},
   "outputs": [],
   "source": [
    "#\n",
    "def read_partials(key, **kargs):\n",
    "    all_files = glob.glob(key)\n",
    "    li = []\n",
    "    for filename in all_files:\n",
    "        df = pd.read_csv(filename, **kargs)\n",
    "        li.append(df)\n",
    "\n",
    "    return pd.concat(li, axis=0, ignore_index=True)"
   ]
  },
  {
   "cell_type": "markdown",
   "metadata": {},
   "source": [
    "### Reading tablas"
   ]
  },
  {
   "cell_type": "code",
   "execution_count": 3,
   "metadata": {},
   "outputs": [
    {
     "data": {
      "text/html": [
       "<div>\n",
       "<style scoped>\n",
       "    .dataframe tbody tr th:only-of-type {\n",
       "        vertical-align: middle;\n",
       "    }\n",
       "\n",
       "    .dataframe tbody tr th {\n",
       "        vertical-align: top;\n",
       "    }\n",
       "\n",
       "    .dataframe thead th {\n",
       "        text-align: right;\n",
       "    }\n",
       "</style>\n",
       "<table border=\"1\" class=\"dataframe\">\n",
       "  <thead>\n",
       "    <tr style=\"text-align: right;\">\n",
       "      <th></th>\n",
       "      <th>environment</th>\n",
       "      <th>database</th>\n",
       "      <th>path</th>\n",
       "      <th>last_modified</th>\n",
       "      <th>year</th>\n",
       "      <th>month</th>\n",
       "      <th>day</th>\n",
       "    </tr>\n",
       "  </thead>\n",
       "  <tbody>\n",
       "    <tr>\n",
       "      <th>0</th>\n",
       "      <td>production</td>\n",
       "      <td>tb_raw_mydatabase_01</td>\n",
       "      <td>s3:/tb_raw_mydatabase_01</td>\n",
       "      <td>20200101120000</td>\n",
       "      <td>2021</td>\n",
       "      <td>1</td>\n",
       "      <td>1</td>\n",
       "    </tr>\n",
       "    <tr>\n",
       "      <th>1</th>\n",
       "      <td>production</td>\n",
       "      <td>tb_raw_mydatabase_02</td>\n",
       "      <td>s3:/tb_raw_mydatabase_02</td>\n",
       "      <td>20200101120000</td>\n",
       "      <td>2021</td>\n",
       "      <td>1</td>\n",
       "      <td>1</td>\n",
       "    </tr>\n",
       "    <tr>\n",
       "      <th>2</th>\n",
       "      <td>production</td>\n",
       "      <td>tb_raw_mydatabase_03</td>\n",
       "      <td>s3:/tb_raw_mydatabase_03</td>\n",
       "      <td>20200101120000</td>\n",
       "      <td>2021</td>\n",
       "      <td>1</td>\n",
       "      <td>1</td>\n",
       "    </tr>\n",
       "    <tr>\n",
       "      <th>3</th>\n",
       "      <td>production</td>\n",
       "      <td>tb_raw_mydatabase_01</td>\n",
       "      <td>s3:/tb_raw_mydatabase_01</td>\n",
       "      <td>20200201120000</td>\n",
       "      <td>2021</td>\n",
       "      <td>2</td>\n",
       "      <td>1</td>\n",
       "    </tr>\n",
       "    <tr>\n",
       "      <th>4</th>\n",
       "      <td>production</td>\n",
       "      <td>tb_raw_mydatabase_02</td>\n",
       "      <td>s3:/tb_raw_mydatabase_02</td>\n",
       "      <td>20200201120000</td>\n",
       "      <td>2021</td>\n",
       "      <td>2</td>\n",
       "      <td>1</td>\n",
       "    </tr>\n",
       "  </tbody>\n",
       "</table>\n",
       "</div>"
      ],
      "text/plain": [
       "  environment              database                      path   last_modified  \\\n",
       "0  production  tb_raw_mydatabase_01  s3:/tb_raw_mydatabase_01  20200101120000   \n",
       "1  production  tb_raw_mydatabase_02  s3:/tb_raw_mydatabase_02  20200101120000   \n",
       "2  production  tb_raw_mydatabase_03  s3:/tb_raw_mydatabase_03  20200101120000   \n",
       "3  production  tb_raw_mydatabase_01  s3:/tb_raw_mydatabase_01  20200201120000   \n",
       "4  production  tb_raw_mydatabase_02  s3:/tb_raw_mydatabase_02  20200201120000   \n",
       "\n",
       "   year  month  day  \n",
       "0  2021      1    1  \n",
       "1  2021      1    1  \n",
       "2  2021      1    1  \n",
       "3  2021      2    1  \n",
       "4  2021      2    1  "
      ]
     },
     "execution_count": 3,
     "metadata": {},
     "output_type": "execute_result"
    }
   ],
   "source": [
    "tablas = read_partials(\"tablas*.csv\", delimiter=\";\")\n",
    "tablas.head()"
   ]
  },
  {
   "cell_type": "markdown",
   "metadata": {},
   "source": [
    "### Reading colunas"
   ]
  },
  {
   "cell_type": "code",
   "execution_count": 4,
   "metadata": {},
   "outputs": [
    {
     "data": {
      "text/html": [
       "<div>\n",
       "<style scoped>\n",
       "    .dataframe tbody tr th:only-of-type {\n",
       "        vertical-align: middle;\n",
       "    }\n",
       "\n",
       "    .dataframe tbody tr th {\n",
       "        vertical-align: top;\n",
       "    }\n",
       "\n",
       "    .dataframe thead th {\n",
       "        text-align: right;\n",
       "    }\n",
       "</style>\n",
       "<table border=\"1\" class=\"dataframe\">\n",
       "  <thead>\n",
       "    <tr style=\"text-align: right;\">\n",
       "      <th></th>\n",
       "      <th>environment</th>\n",
       "      <th>database</th>\n",
       "      <th>column</th>\n",
       "      <th>type</th>\n",
       "      <th>comment</th>\n",
       "      <th>year</th>\n",
       "      <th>month</th>\n",
       "      <th>day</th>\n",
       "    </tr>\n",
       "  </thead>\n",
       "  <tbody>\n",
       "    <tr>\n",
       "      <th>0</th>\n",
       "      <td>production</td>\n",
       "      <td>tb_raw_mydatabase_01</td>\n",
       "      <td>coluna1</td>\n",
       "      <td>text</td>\n",
       "      <td>Exemplo de coluna</td>\n",
       "      <td>2021</td>\n",
       "      <td>1</td>\n",
       "      <td>1</td>\n",
       "    </tr>\n",
       "    <tr>\n",
       "      <th>1</th>\n",
       "      <td>production</td>\n",
       "      <td>tb_raw_mydatabase_01</td>\n",
       "      <td>coluna2</td>\n",
       "      <td>text</td>\n",
       "      <td>Exemplo de coluna</td>\n",
       "      <td>2021</td>\n",
       "      <td>1</td>\n",
       "      <td>1</td>\n",
       "    </tr>\n",
       "    <tr>\n",
       "      <th>2</th>\n",
       "      <td>production</td>\n",
       "      <td>tb_raw_mydatabase_01</td>\n",
       "      <td>coluna3</td>\n",
       "      <td>text</td>\n",
       "      <td>Exemplo de coluna</td>\n",
       "      <td>2021</td>\n",
       "      <td>1</td>\n",
       "      <td>1</td>\n",
       "    </tr>\n",
       "    <tr>\n",
       "      <th>3</th>\n",
       "      <td>production</td>\n",
       "      <td>tb_raw_mydatabase_01</td>\n",
       "      <td>coluna4</td>\n",
       "      <td>text</td>\n",
       "      <td>Exemplo de coluna</td>\n",
       "      <td>2021</td>\n",
       "      <td>1</td>\n",
       "      <td>1</td>\n",
       "    </tr>\n",
       "    <tr>\n",
       "      <th>4</th>\n",
       "      <td>production</td>\n",
       "      <td>tb_raw_mydatabase_01</td>\n",
       "      <td>coluna5</td>\n",
       "      <td>text</td>\n",
       "      <td>Exemplo de coluna</td>\n",
       "      <td>2021</td>\n",
       "      <td>1</td>\n",
       "      <td>1</td>\n",
       "    </tr>\n",
       "  </tbody>\n",
       "</table>\n",
       "</div>"
      ],
      "text/plain": [
       "  environment              database   column  type            comment  year  \\\n",
       "0  production  tb_raw_mydatabase_01  coluna1  text  Exemplo de coluna  2021   \n",
       "1  production  tb_raw_mydatabase_01  coluna2  text  Exemplo de coluna  2021   \n",
       "2  production  tb_raw_mydatabase_01  coluna3  text  Exemplo de coluna  2021   \n",
       "3  production  tb_raw_mydatabase_01  coluna4  text  Exemplo de coluna  2021   \n",
       "4  production  tb_raw_mydatabase_01  coluna5  text  Exemplo de coluna  2021   \n",
       "\n",
       "   month  day  \n",
       "0      1    1  \n",
       "1      1    1  \n",
       "2      1    1  \n",
       "3      1    1  \n",
       "4      1    1  "
      ]
     },
     "execution_count": 4,
     "metadata": {},
     "output_type": "execute_result"
    }
   ],
   "source": [
    "colunas = read_partials(\"colunas*.csv\", delimiter=\";\")\n",
    "colunas.head()"
   ]
  },
  {
   "cell_type": "markdown",
   "metadata": {},
   "source": [
    "# Merging"
   ]
  },
  {
   "cell_type": "code",
   "execution_count": 5,
   "metadata": {
    "scrolled": true
   },
   "outputs": [
    {
     "data": {
      "text/html": [
       "<div>\n",
       "<style scoped>\n",
       "    .dataframe tbody tr th:only-of-type {\n",
       "        vertical-align: middle;\n",
       "    }\n",
       "\n",
       "    .dataframe tbody tr th {\n",
       "        vertical-align: top;\n",
       "    }\n",
       "\n",
       "    .dataframe thead th {\n",
       "        text-align: right;\n",
       "    }\n",
       "</style>\n",
       "<table border=\"1\" class=\"dataframe\">\n",
       "  <thead>\n",
       "    <tr style=\"text-align: right;\">\n",
       "      <th></th>\n",
       "      <th>environment_left</th>\n",
       "      <th>database</th>\n",
       "      <th>path</th>\n",
       "      <th>last_modified</th>\n",
       "      <th>year</th>\n",
       "      <th>month</th>\n",
       "      <th>day</th>\n",
       "      <th>environment_right</th>\n",
       "      <th>column</th>\n",
       "      <th>type</th>\n",
       "      <th>comment</th>\n",
       "    </tr>\n",
       "  </thead>\n",
       "  <tbody>\n",
       "    <tr>\n",
       "      <th>0</th>\n",
       "      <td>production</td>\n",
       "      <td>tb_raw_mydatabase_01</td>\n",
       "      <td>s3:/tb_raw_mydatabase_01</td>\n",
       "      <td>20200101120000</td>\n",
       "      <td>2021</td>\n",
       "      <td>1</td>\n",
       "      <td>1</td>\n",
       "      <td>production</td>\n",
       "      <td>coluna1</td>\n",
       "      <td>text</td>\n",
       "      <td>Exemplo de coluna</td>\n",
       "    </tr>\n",
       "    <tr>\n",
       "      <th>1</th>\n",
       "      <td>production</td>\n",
       "      <td>tb_raw_mydatabase_01</td>\n",
       "      <td>s3:/tb_raw_mydatabase_01</td>\n",
       "      <td>20200101120000</td>\n",
       "      <td>2021</td>\n",
       "      <td>1</td>\n",
       "      <td>1</td>\n",
       "      <td>production</td>\n",
       "      <td>coluna2</td>\n",
       "      <td>text</td>\n",
       "      <td>Exemplo de coluna</td>\n",
       "    </tr>\n",
       "    <tr>\n",
       "      <th>2</th>\n",
       "      <td>production</td>\n",
       "      <td>tb_raw_mydatabase_01</td>\n",
       "      <td>s3:/tb_raw_mydatabase_01</td>\n",
       "      <td>20200101120000</td>\n",
       "      <td>2021</td>\n",
       "      <td>1</td>\n",
       "      <td>1</td>\n",
       "      <td>production</td>\n",
       "      <td>coluna3</td>\n",
       "      <td>text</td>\n",
       "      <td>Exemplo de coluna</td>\n",
       "    </tr>\n",
       "    <tr>\n",
       "      <th>3</th>\n",
       "      <td>production</td>\n",
       "      <td>tb_raw_mydatabase_01</td>\n",
       "      <td>s3:/tb_raw_mydatabase_01</td>\n",
       "      <td>20200101120000</td>\n",
       "      <td>2021</td>\n",
       "      <td>1</td>\n",
       "      <td>1</td>\n",
       "      <td>production</td>\n",
       "      <td>coluna4</td>\n",
       "      <td>text</td>\n",
       "      <td>Exemplo de coluna</td>\n",
       "    </tr>\n",
       "    <tr>\n",
       "      <th>4</th>\n",
       "      <td>production</td>\n",
       "      <td>tb_raw_mydatabase_01</td>\n",
       "      <td>s3:/tb_raw_mydatabase_01</td>\n",
       "      <td>20200101120000</td>\n",
       "      <td>2021</td>\n",
       "      <td>1</td>\n",
       "      <td>1</td>\n",
       "      <td>production</td>\n",
       "      <td>coluna5</td>\n",
       "      <td>text</td>\n",
       "      <td>Exemplo de coluna</td>\n",
       "    </tr>\n",
       "  </tbody>\n",
       "</table>\n",
       "</div>"
      ],
      "text/plain": [
       "  environment_left              database                      path  \\\n",
       "0       production  tb_raw_mydatabase_01  s3:/tb_raw_mydatabase_01   \n",
       "1       production  tb_raw_mydatabase_01  s3:/tb_raw_mydatabase_01   \n",
       "2       production  tb_raw_mydatabase_01  s3:/tb_raw_mydatabase_01   \n",
       "3       production  tb_raw_mydatabase_01  s3:/tb_raw_mydatabase_01   \n",
       "4       production  tb_raw_mydatabase_01  s3:/tb_raw_mydatabase_01   \n",
       "\n",
       "    last_modified  year  month  day environment_right   column  type  \\\n",
       "0  20200101120000  2021      1    1        production  coluna1  text   \n",
       "1  20200101120000  2021      1    1        production  coluna2  text   \n",
       "2  20200101120000  2021      1    1        production  coluna3  text   \n",
       "3  20200101120000  2021      1    1        production  coluna4  text   \n",
       "4  20200101120000  2021      1    1        production  coluna5  text   \n",
       "\n",
       "             comment  \n",
       "0  Exemplo de coluna  \n",
       "1  Exemplo de coluna  \n",
       "2  Exemplo de coluna  \n",
       "3  Exemplo de coluna  \n",
       "4  Exemplo de coluna  "
      ]
     },
     "execution_count": 5,
     "metadata": {},
     "output_type": "execute_result"
    }
   ],
   "source": [
    "tablas_cols = tablas.merge(colunas, left_on=['database', 'year', 'month', 'day'], right_on=['database', 'year', 'month', 'day'], suffixes=('_left', '_right'))\n",
    "tablas_cols.head()"
   ]
  },
  {
   "cell_type": "markdown",
   "metadata": {},
   "source": [
    "### Lendo apenas as bases de interesse"
   ]
  },
  {
   "cell_type": "code",
   "execution_count": 13,
   "metadata": {},
   "outputs": [
    {
     "data": {
      "text/html": [
       "<div>\n",
       "<style scoped>\n",
       "    .dataframe tbody tr th:only-of-type {\n",
       "        vertical-align: middle;\n",
       "    }\n",
       "\n",
       "    .dataframe tbody tr th {\n",
       "        vertical-align: top;\n",
       "    }\n",
       "\n",
       "    .dataframe thead th {\n",
       "        text-align: right;\n",
       "    }\n",
       "</style>\n",
       "<table border=\"1\" class=\"dataframe\">\n",
       "  <thead>\n",
       "    <tr style=\"text-align: right;\">\n",
       "      <th></th>\n",
       "      <th>environment_left</th>\n",
       "      <th>database</th>\n",
       "      <th>path</th>\n",
       "      <th>last_modified</th>\n",
       "      <th>year</th>\n",
       "      <th>month</th>\n",
       "      <th>day</th>\n",
       "      <th>environment_right</th>\n",
       "      <th>column</th>\n",
       "      <th>type</th>\n",
       "      <th>comment</th>\n",
       "    </tr>\n",
       "  </thead>\n",
       "  <tbody>\n",
       "    <tr>\n",
       "      <th>0</th>\n",
       "      <td>production</td>\n",
       "      <td>tb_raw_mydatabase_01</td>\n",
       "      <td>s3:/tb_raw_mydatabase_01</td>\n",
       "      <td>20200101120000</td>\n",
       "      <td>2021</td>\n",
       "      <td>1</td>\n",
       "      <td>1</td>\n",
       "      <td>production</td>\n",
       "      <td>coluna1</td>\n",
       "      <td>text</td>\n",
       "      <td>Exemplo de coluna</td>\n",
       "    </tr>\n",
       "    <tr>\n",
       "      <th>1</th>\n",
       "      <td>production</td>\n",
       "      <td>tb_raw_mydatabase_01</td>\n",
       "      <td>s3:/tb_raw_mydatabase_01</td>\n",
       "      <td>20200101120000</td>\n",
       "      <td>2021</td>\n",
       "      <td>1</td>\n",
       "      <td>1</td>\n",
       "      <td>production</td>\n",
       "      <td>coluna2</td>\n",
       "      <td>text</td>\n",
       "      <td>Exemplo de coluna</td>\n",
       "    </tr>\n",
       "    <tr>\n",
       "      <th>2</th>\n",
       "      <td>production</td>\n",
       "      <td>tb_raw_mydatabase_01</td>\n",
       "      <td>s3:/tb_raw_mydatabase_01</td>\n",
       "      <td>20200101120000</td>\n",
       "      <td>2021</td>\n",
       "      <td>1</td>\n",
       "      <td>1</td>\n",
       "      <td>production</td>\n",
       "      <td>coluna3</td>\n",
       "      <td>text</td>\n",
       "      <td>Exemplo de coluna</td>\n",
       "    </tr>\n",
       "    <tr>\n",
       "      <th>3</th>\n",
       "      <td>production</td>\n",
       "      <td>tb_raw_mydatabase_01</td>\n",
       "      <td>s3:/tb_raw_mydatabase_01</td>\n",
       "      <td>20200101120000</td>\n",
       "      <td>2021</td>\n",
       "      <td>1</td>\n",
       "      <td>1</td>\n",
       "      <td>production</td>\n",
       "      <td>coluna4</td>\n",
       "      <td>text</td>\n",
       "      <td>Exemplo de coluna</td>\n",
       "    </tr>\n",
       "    <tr>\n",
       "      <th>4</th>\n",
       "      <td>production</td>\n",
       "      <td>tb_raw_mydatabase_01</td>\n",
       "      <td>s3:/tb_raw_mydatabase_01</td>\n",
       "      <td>20200101120000</td>\n",
       "      <td>2021</td>\n",
       "      <td>1</td>\n",
       "      <td>1</td>\n",
       "      <td>production</td>\n",
       "      <td>coluna5</td>\n",
       "      <td>text</td>\n",
       "      <td>Exemplo de coluna</td>\n",
       "    </tr>\n",
       "  </tbody>\n",
       "</table>\n",
       "</div>"
      ],
      "text/plain": [
       "  environment_left              database                      path  \\\n",
       "0       production  tb_raw_mydatabase_01  s3:/tb_raw_mydatabase_01   \n",
       "1       production  tb_raw_mydatabase_01  s3:/tb_raw_mydatabase_01   \n",
       "2       production  tb_raw_mydatabase_01  s3:/tb_raw_mydatabase_01   \n",
       "3       production  tb_raw_mydatabase_01  s3:/tb_raw_mydatabase_01   \n",
       "4       production  tb_raw_mydatabase_01  s3:/tb_raw_mydatabase_01   \n",
       "\n",
       "    last_modified  year  month  day environment_right   column  type  \\\n",
       "0  20200101120000  2021      1    1        production  coluna1  text   \n",
       "1  20200101120000  2021      1    1        production  coluna2  text   \n",
       "2  20200101120000  2021      1    1        production  coluna3  text   \n",
       "3  20200101120000  2021      1    1        production  coluna4  text   \n",
       "4  20200101120000  2021      1    1        production  coluna5  text   \n",
       "\n",
       "             comment  \n",
       "0  Exemplo de coluna  \n",
       "1  Exemplo de coluna  \n",
       "2  Exemplo de coluna  \n",
       "3  Exemplo de coluna  \n",
       "4  Exemplo de coluna  "
      ]
     },
     "execution_count": 13,
     "metadata": {},
     "output_type": "execute_result"
    }
   ],
   "source": [
    "tablas_inspect = ['tb_raw_mydatabase_01', 'tb_raw_mydatabase_02', 'tb_raw_mydatabase_03']\n",
    "tablas_inspect    = tablas_cols.loc[tablas_cols.database.isin(tablas_inspect)]\n",
    "tablas_inspect.head()"
   ]
  },
  {
   "cell_type": "code",
   "execution_count": 16,
   "metadata": {},
   "outputs": [],
   "source": [
    "df_tablas = tablas_inspect"
   ]
  },
  {
   "cell_type": "markdown",
   "metadata": {},
   "source": [
    "# Utils"
   ]
  },
  {
   "cell_type": "code",
   "execution_count": 17,
   "metadata": {},
   "outputs": [],
   "source": [
    "AUTHORIZATION=\"0090ee76-cc91-4956-ab94-616b0ddaa1c9\"\n",
    "SERVER       =\"18.219.144.92\"\n",
    "\n",
    "conn = http.client.HTTPConnection(SERVER)"
   ]
  },
  {
   "cell_type": "code",
   "execution_count": 18,
   "metadata": {},
   "outputs": [],
   "source": [
    "def send_request(rest_type, endpoint, payload, headers, count=3):\n",
    "    try:\n",
    "        conn.request(rest_type, endpoint, payload, headers)\n",
    "        res = conn.getresponse()\n",
    "        data = res.read().decode(\"utf-8\")\n",
    "\n",
    "        return json.loads(data)\n",
    "    except:\n",
    "        print(\"reconectando\")\n",
    "        count = count -1\n",
    "        return send_request(rest_type, endpoint, payload, headers, count)"
   ]
  },
  {
   "cell_type": "code",
   "execution_count": 19,
   "metadata": {},
   "outputs": [],
   "source": [
    "#\n",
    "# Retorna o pacote\n",
    "#\n",
    "def get_package(package_id: str, **kargs):\n",
    "    payload = json.dumps({\n",
    "      \"id\": package_id\n",
    "    })\n",
    "\n",
    "    headers = {\n",
    "        'Authorization': AUTHORIZATION,\n",
    "        'Content-Type': 'application/json'\n",
    "    }\n",
    "    \n",
    "    return send_request(\"POST\", \"/api/3/action/package_show\", payload, headers, **kargs)"
   ]
  },
  {
   "cell_type": "code",
   "execution_count": 20,
   "metadata": {},
   "outputs": [],
   "source": [
    "#\n",
    "# Cria um novo pacote\n",
    "#\n",
    "def set_package(data, **kargs):\n",
    "    payload = json.dumps(data)\n",
    "\n",
    "    headers = {\n",
    "        'Authorization': AUTHORIZATION,\n",
    "        'Content-Type': 'application/json'\n",
    "    }\n",
    "    \n",
    "    return send_request(\"POST\", \"/api/3/action/package_create\", payload, headers, **kargs)"
   ]
  },
  {
   "cell_type": "code",
   "execution_count": 21,
   "metadata": {},
   "outputs": [],
   "source": [
    "#\n",
    "# Cria um novo datastore\n",
    "#\n",
    "def set_datastore(data, **kargs):\n",
    "    payload = json.dumps(data)\n",
    "\n",
    "    headers = {\n",
    "        'Authorization': AUTHORIZATION,\n",
    "        'Content-Type': 'application/json'\n",
    "    }\n",
    "\n",
    "    return send_request(\"POST\", \"/api/3/action/datastore_create\", payload, headers, **kargs)"
   ]
  },
  {
   "cell_type": "markdown",
   "metadata": {},
   "source": [
    "### Lendo os pacotes ja carregados no CKAN"
   ]
  },
  {
   "cell_type": "code",
   "execution_count": 32,
   "metadata": {},
   "outputs": [
    {
     "data": {
      "text/plain": [
       "['tb_raw_mydatabase_01', 'tb_raw_mydatabase_02', 'tb_raw_mydatabase_03']"
      ]
     },
     "execution_count": 32,
     "metadata": {},
     "output_type": "execute_result"
    }
   ],
   "source": [
    "databases      = df_tablas.database.unique().tolist()\n",
    "databases"
   ]
  },
  {
   "cell_type": "code",
   "execution_count": 49,
   "metadata": {},
   "outputs": [
    {
     "name": "stdout",
     "output_type": "stream",
     "text": [
      "reconectando\n",
      "Tabela tb_raw_mydatabase_01 encontrada\n",
      "Tabela tb_raw_mydatabase_02 encontrada\n"
     ]
    }
   ],
   "source": [
    "# Lendo as bases ja existentes do catalogo\n",
    "\n",
    "databases      = df_tablas.database.unique().tolist()\n",
    "databases_aux  = df_tablas.database.unique().tolist()\n",
    "ckan_databases = {}\n",
    "\n",
    "for database in databases_aux:\n",
    "    response = get_package(database)\n",
    "    if \"success\" in response and response[\"success\"] == True:\n",
    "        print(f\"Tabela {database} encontrada\")\n",
    "        ckan_databases[database] = response[\"result\"]\n",
    "        databases.remove(database)"
   ]
  },
  {
   "cell_type": "markdown",
   "metadata": {},
   "source": [
    "# Bases novas"
   ]
  },
  {
   "cell_type": "markdown",
   "metadata": {},
   "source": [
    "### Isolando as bases que ainda nao foram carregadas"
   ]
  },
  {
   "cell_type": "code",
   "execution_count": 50,
   "metadata": {},
   "outputs": [],
   "source": [
    "# Para as bases que ainda nao estao inclusas no catalogo\n",
    "tablas_nuevas = df_tablas.loc[~df_tablas.database.isin(ckan_databases.keys())]"
   ]
  },
  {
   "cell_type": "markdown",
   "metadata": {},
   "source": [
    "### Criando o objeto de pacotes"
   ]
  },
  {
   "cell_type": "code",
   "execution_count": 52,
   "metadata": {
    "scrolled": true
   },
   "outputs": [],
   "source": [
    "# Der as tabelas disponiveis\n",
    "my_tablas = {}\n",
    "for tabla in databases:\n",
    "    my_tablas[tabla] = {}\n",
    "    \n",
    "    db = df_tablas.loc[(df_tablas['database'] == tabla)]\\\n",
    "                    .sort_values(by=['year', 'month', 'day'], ascending=False)\\\n",
    "                    .reset_index(drop=True)\n",
    "    \n",
    "    data = json.loads(db.to_json())\n",
    "\n",
    "    for key in data.keys():\n",
    "        my_tablas[tabla][key] = data[key]['0']"
   ]
  },
  {
   "cell_type": "code",
   "execution_count": 53,
   "metadata": {},
   "outputs": [
    {
     "name": "stdout",
     "output_type": "stream",
     "text": [
      "{'tb_raw_mydatabase_03': {'environment_left': 'production', 'database': 'tb_raw_mydatabase_03', 'path': 's3:/tb_raw_mydatabase_03', 'last_modified': 20200601120000, 'year': 2021, 'month': 6, 'day': 1, 'environment_right': 'production', 'column': 'coluna1', 'type': 'text', 'comment': 'Exemplo de coluna'}}\n"
     ]
    }
   ],
   "source": [
    "print(my_tablas)"
   ]
  },
  {
   "cell_type": "markdown",
   "metadata": {},
   "source": [
    "### Carregando as colunas dentro do objeto de pacotes"
   ]
  },
  {
   "cell_type": "code",
   "execution_count": 56,
   "metadata": {},
   "outputs": [],
   "source": [
    "def create_new_package(tabla):\n",
    "    package = {\n",
    "        \"name\": tabla['database'],\n",
    "        \"title\": tabla['database'],\n",
    "        \"owner_org\": \"bank\",\n",
    "        \"notes\": \"Base carregada por processo automatico\",\n",
    "        \"author\": \"dorotheu\",\n",
    "        \"author_email\": \"dorotheu@teste.com\",\n",
    "        \"private\": True,\n",
    "        \"extras\": [\n",
    "            {\n",
    "                \"key\": \"badge\",\n",
    "                \"value\": \"gold\"\n",
    "            },\n",
    "            {\n",
    "                \"key\": \"last_modified\",\n",
    "                \"value\": tabla['last_modified']\n",
    "            },\n",
    "            {\n",
    "                \"key\": \"path\",\n",
    "                \"value\": tabla['path']\n",
    "            }\n",
    "        ]\n",
    "    }\n",
    "    print(package)\n",
    "\n",
    "    return set_package(package)"
   ]
  },
  {
   "cell_type": "code",
   "execution_count": 57,
   "metadata": {},
   "outputs": [],
   "source": [
    "def create_new_datastore(tabla):\n",
    "    datastore = {\n",
    "        \"resource\": {\n",
    "            \"package_id\": tabla['database'],\n",
    "            \"name\": tabla['database'],\n",
    "            \"description\": \"Dicionario de Dados\",\n",
    "            \"format\": \"Redshift\"\n",
    "        },\n",
    "        \"fields\": tabla['columns'],\n",
    "    }\n",
    "    \n",
    "    return set_datastore(datastore)"
   ]
  },
  {
   "cell_type": "code",
   "execution_count": 54,
   "metadata": {},
   "outputs": [],
   "source": [
    "# Lendo as colunas das tabelas disponiveis\n",
    "for tabla_name in my_tablas:\n",
    "    db = df_tablas.loc[(df_tablas['database'] == tabla_name)]\\\n",
    "                    .loc[(df_tablas['year']  == my_tablas[tabla_name]['year'])]\\\n",
    "                    .loc[(df_tablas['month'] == my_tablas[tabla_name]['month'])]\\\n",
    "                    .loc[(df_tablas['day']   == my_tablas[tabla_name]['day'])]\\\n",
    "                    .reset_index(drop=True)\n",
    "    \n",
    "    my_tablas[tabla_name]['columns'] = []\n",
    "\n",
    "    data = json.loads(db.to_json())\n",
    "    size = len(db.index)\n",
    "    \n",
    "    #for row in size:\n",
    "    for row in range(0, size):\n",
    "        my_tablas[tabla_name]['columns'].append({\n",
    "            \"id\": data['column'][f\"{row}\"],\n",
    "            \"type\": data['type'][f\"{row}\"],\n",
    "            \"info\": {\n",
    "                \"label\": data['column'][f\"{row}\"],\n",
    "                \"notes\": data['comment'][f\"{row}\"]\n",
    "            }\n",
    "        })\n",
    "    "
   ]
  },
  {
   "cell_type": "code",
   "execution_count": 55,
   "metadata": {},
   "outputs": [
    {
     "name": "stdout",
     "output_type": "stream",
     "text": [
      "{'tb_raw_mydatabase_03': {'environment_left': 'production', 'database': 'tb_raw_mydatabase_03', 'path': 's3:/tb_raw_mydatabase_03', 'last_modified': 20200601120000, 'year': 2021, 'month': 6, 'day': 1, 'environment_right': 'production', 'column': 'coluna1', 'type': 'text', 'comment': 'Exemplo de coluna', 'columns': [{'id': 'coluna1', 'type': 'text', 'info': {'label': 'coluna1', 'notes': 'Exemplo de coluna'}}, {'id': 'coluna2', 'type': 'text', 'info': {'label': 'coluna2', 'notes': 'Exemplo de coluna'}}, {'id': 'coluna3', 'type': 'text', 'info': {'label': 'coluna3', 'notes': 'Exemplo de coluna'}}, {'id': 'coluna4', 'type': 'text', 'info': {'label': 'coluna4', 'notes': 'Exemplo de coluna'}}, {'id': 'coluna5', 'type': 'text', 'info': {'label': 'coluna5', 'notes': 'Exemplo de coluna'}}]}}\n"
     ]
    }
   ],
   "source": [
    "print(my_tablas)"
   ]
  },
  {
   "cell_type": "code",
   "execution_count": 58,
   "metadata": {},
   "outputs": [
    {
     "name": "stdout",
     "output_type": "stream",
     "text": [
      "{'name': 'tb_raw_mydatabase_03', 'title': 'tb_raw_mydatabase_03', 'owner_org': 'bank', 'notes': 'Base carregada por processo automatico', 'author': 'dorotheu', 'author_email': 'dorotheu@teste.com', 'private': True, 'extras': [{'key': 'badge', 'value': 'gold'}, {'key': 'last_modified', 'value': 20200601120000}, {'key': 'path', 'value': 's3:/tb_raw_mydatabase_03'}]}\n",
      "reconectando\n"
     ]
    }
   ],
   "source": [
    "for tabla_name in my_tablas:\n",
    "    response_package   = create_new_package(my_tablas[tabla_name])\n",
    "    response_datastore = create_new_datastore(my_tablas[tabla_name])"
   ]
  },
  {
   "cell_type": "code",
   "execution_count": null,
   "metadata": {},
   "outputs": [],
   "source": []
  },
  {
   "cell_type": "code",
   "execution_count": null,
   "metadata": {},
   "outputs": [],
   "source": []
  }
 ],
 "metadata": {
  "kernelspec": {
   "display_name": "Python 3",
   "language": "python",
   "name": "python3"
  },
  "language_info": {
   "codemirror_mode": {
    "name": "ipython",
    "version": 3
   },
   "file_extension": ".py",
   "mimetype": "text/x-python",
   "name": "python",
   "nbconvert_exporter": "python",
   "pygments_lexer": "ipython3",
   "version": "3.7.3"
  }
 },
 "nbformat": 4,
 "nbformat_minor": 2
}
